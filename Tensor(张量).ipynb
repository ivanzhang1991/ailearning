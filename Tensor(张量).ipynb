{
 "cells": [
  {
   "cell_type": "markdown",
   "metadata": {},
   "source": [
    "Tensors(张量)\n",
    "tensors和numpy中的ndarrays类似，但在pytorch中tensors可以使用GPU进行计算"
   ]
  },
  {
   "cell_type": "code",
   "execution_count": 1,
   "metadata": {},
   "outputs": [],
   "source": [
    "from __future__ import print_function\n",
    "import torch"
   ]
  },
  {
   "cell_type": "markdown",
   "metadata": {},
   "source": [
    "创建一个5x3矩阵，但未定义"
   ]
  },
  {
   "cell_type": "code",
   "execution_count": 3,
   "metadata": {},
   "outputs": [
    {
     "data": {
      "text/plain": [
       "tensor([[-2.5560e+19,  3.0714e-41, -2.5112e+19],\n",
       "        [ 3.0714e-41,  1.1210e-43,  0.0000e+00],\n",
       "        [ 1.5695e-43,  0.0000e+00, -2.5367e+19],\n",
       "        [ 3.0714e-41,  2.5223e-44,  0.0000e+00],\n",
       "        [        nan,  3.8946e+21,  1.1578e+27]])"
      ]
     },
     "execution_count": 3,
     "metadata": {},
     "output_type": "execute_result"
    }
   ],
   "source": [
    "x = torch.empty(5,3)\n",
    "x"
   ]
  },
  {
   "cell_type": "code",
   "execution_count": 4,
   "metadata": {},
   "outputs": [
    {
     "data": {
      "text/plain": [
       "tensor([[0.0780, 0.9867, 0.6062],\n",
       "        [0.2667, 0.1236, 0.9496],\n",
       "        [0.6038, 0.6157, 0.6580],\n",
       "        [0.7047, 0.9114, 0.0941],\n",
       "        [0.1008, 0.7513, 0.7666]])"
      ]
     },
     "execution_count": 4,
     "metadata": {},
     "output_type": "execute_result"
    }
   ],
   "source": [
    "#随机初始化一个矩阵\n",
    "x = torch.rand(5,3)\n",
    "x"
   ]
  },
  {
   "cell_type": "code",
   "execution_count": 7,
   "metadata": {},
   "outputs": [
    {
     "name": "stdout",
     "output_type": "stream",
     "text": [
      "tensor([[0, 0, 0],\n",
      "        [0, 0, 0],\n",
      "        [0, 0, 0],\n",
      "        [0, 0, 0],\n",
      "        [0, 0, 0]])\n"
     ]
    }
   ],
   "source": [
    "#创建一个0填充的矩阵，数据类型为long\n",
    "x = torch.zeros(5,3,dtype=torch.long)\n",
    "print(x)"
   ]
  },
  {
   "cell_type": "code",
   "execution_count": 8,
   "metadata": {},
   "outputs": [
    {
     "name": "stdout",
     "output_type": "stream",
     "text": [
      "tensor([5.5000, 3.0000])\n"
     ]
    }
   ],
   "source": [
    "#创建tensor并使用现有数据初始化\n",
    "x = torch.tensor([5.5,3])\n",
    "print(x)"
   ]
  },
  {
   "cell_type": "code",
   "execution_count": 9,
   "metadata": {},
   "outputs": [
    {
     "name": "stdout",
     "output_type": "stream",
     "text": [
      "tensor([[1., 1., 1.],\n",
      "        [1., 1., 1.],\n",
      "        [1., 1., 1.],\n",
      "        [1., 1., 1.],\n",
      "        [1., 1., 1.]], dtype=torch.float64)\n",
      "tensor([[-0.9049, -0.1802,  1.3264],\n",
      "        [-0.0988,  1.8650,  0.1787],\n",
      "        [ 0.3762, -0.0593, -1.3351],\n",
      "        [ 0.3328, -0.4799, -1.8258],\n",
      "        [ 1.2866, -0.2709, -2.1064]])\n"
     ]
    }
   ],
   "source": [
    "#根据现有的张量创建张量\n",
    "x = x.new_ones(5,3,dtype=torch.double)#new_*方法创建对象\n",
    "print(x)\n",
    "\n",
    "x = torch.randn_like(x,dtype=torch.float)#覆盖dtype!\n",
    "print(x)"
   ]
  },
  {
   "cell_type": "code",
   "execution_count": 11,
   "metadata": {},
   "outputs": [
    {
     "name": "stdout",
     "output_type": "stream",
     "text": [
      "torch.Size([5, 3])\n"
     ]
    }
   ],
   "source": [
    "#获取size\n",
    "print(x.size())"
   ]
  },
  {
   "cell_type": "code",
   "execution_count": 12,
   "metadata": {},
   "outputs": [
    {
     "name": "stdout",
     "output_type": "stream",
     "text": [
      "tensor([[-0.3865,  0.1387,  1.5789],\n",
      "        [ 0.2989,  2.1615,  1.0434],\n",
      "        [ 0.4128,  0.1500, -0.6177],\n",
      "        [ 0.3693, -0.0334, -0.8700],\n",
      "        [ 1.4298, -0.1024, -1.6337]])\n"
     ]
    }
   ],
   "source": [
    "#进行加法运算\n",
    "#加法1\n",
    "y = torch.rand(5,3)\n",
    "print(x + y)"
   ]
  },
  {
   "cell_type": "code",
   "execution_count": 13,
   "metadata": {},
   "outputs": [
    {
     "name": "stdout",
     "output_type": "stream",
     "text": [
      "tensor([[-0.3865,  0.1387,  1.5789],\n",
      "        [ 0.2989,  2.1615,  1.0434],\n",
      "        [ 0.4128,  0.1500, -0.6177],\n",
      "        [ 0.3693, -0.0334, -0.8700],\n",
      "        [ 1.4298, -0.1024, -1.6337]])\n"
     ]
    }
   ],
   "source": [
    "#加法2\n",
    "print(torch.add(x,y))"
   ]
  },
  {
   "cell_type": "code",
   "execution_count": 14,
   "metadata": {},
   "outputs": [
    {
     "name": "stdout",
     "output_type": "stream",
     "text": [
      "tensor([[-0.3865,  0.1387,  1.5789],\n",
      "        [ 0.2989,  2.1615,  1.0434],\n",
      "        [ 0.4128,  0.1500, -0.6177],\n",
      "        [ 0.3693, -0.0334, -0.8700],\n",
      "        [ 1.4298, -0.1024, -1.6337]])\n"
     ]
    }
   ],
   "source": [
    "#提供输出tensor作为参数\n",
    "result = torch.empty(5,3)\n",
    "torch.add(x,y,out=result)\n",
    "print(result)"
   ]
  },
  {
   "cell_type": "code",
   "execution_count": 15,
   "metadata": {},
   "outputs": [
    {
     "name": "stdout",
     "output_type": "stream",
     "text": [
      "tensor([[-0.3865,  0.1387,  1.5789],\n",
      "        [ 0.2989,  2.1615,  1.0434],\n",
      "        [ 0.4128,  0.1500, -0.6177],\n",
      "        [ 0.3693, -0.0334, -0.8700],\n",
      "        [ 1.4298, -0.1024, -1.6337]])\n"
     ]
    }
   ],
   "source": [
    "#替换\n",
    "#adds x to y\n",
    "y.add_(x)\n",
    "print(y)"
   ]
  },
  {
   "cell_type": "code",
   "execution_count": 16,
   "metadata": {},
   "outputs": [
    {
     "name": "stdout",
     "output_type": "stream",
     "text": [
      "tensor([-0.1802,  1.8650, -0.0593, -0.4799, -0.2709])\n"
     ]
    }
   ],
   "source": [
    "#使用与numpy索引方式相同的操作来进行对张量的操作\n",
    "print(x[:,1])"
   ]
  },
  {
   "cell_type": "code",
   "execution_count": 17,
   "metadata": {},
   "outputs": [
    {
     "name": "stdout",
     "output_type": "stream",
     "text": [
      "torch.Size([4, 4]) torch.Size([16]) torch.Size([2, 8])\n"
     ]
    }
   ],
   "source": [
    "#torch.view:可以改变张量的维度和大小\n",
    "x = torch.randn(4,4)\n",
    "y = x.view(16)\n",
    "z = x.view(-1,8)\n",
    "print(x.size(),y.size(),z.size())"
   ]
  },
  {
   "cell_type": "code",
   "execution_count": 18,
   "metadata": {},
   "outputs": [
    {
     "name": "stdout",
     "output_type": "stream",
     "text": [
      "tensor([-0.3398])\n",
      "-0.3397812247276306\n"
     ]
    }
   ],
   "source": [
    "#只有一个元素的张量，可以使用.item()来得到python数据类型的数值\n",
    "x = torch.randn(1)\n",
    "print(x)\n",
    "print(x.item())"
   ]
  },
  {
   "cell_type": "code",
   "execution_count": 19,
   "metadata": {},
   "outputs": [
    {
     "name": "stdout",
     "output_type": "stream",
     "text": [
      "tensor([1., 1., 1., 1., 1.])\n"
     ]
    }
   ],
   "source": [
    "#torch tensor和numpy数组相互转换,共享底层内存地址\n",
    "a = torch.ones(5)\n",
    "print(a)"
   ]
  },
  {
   "cell_type": "code",
   "execution_count": 20,
   "metadata": {},
   "outputs": [
    {
     "name": "stdout",
     "output_type": "stream",
     "text": [
      "[1. 1. 1. 1. 1.]\n"
     ]
    }
   ],
   "source": [
    "b = a.numpy()\n",
    "print(b)"
   ]
  },
  {
   "cell_type": "code",
   "execution_count": 21,
   "metadata": {},
   "outputs": [
    {
     "name": "stdout",
     "output_type": "stream",
     "text": [
      "tensor([2., 2., 2., 2., 2.])\n",
      "[2. 2. 2. 2. 2.]\n"
     ]
    }
   ],
   "source": [
    "#观察numpy数组的值是如何改变的\n",
    "a.add_(1)\n",
    "print(a)\n",
    "print(b)"
   ]
  },
  {
   "cell_type": "code",
   "execution_count": 22,
   "metadata": {},
   "outputs": [
    {
     "name": "stdout",
     "output_type": "stream",
     "text": [
      "[2. 2. 2. 2. 2.]\n",
      "tensor([2., 2., 2., 2., 2.], dtype=torch.float64)\n"
     ]
    }
   ],
   "source": [
    "#numpy数组转换成torch tensor\n",
    "import numpy as np\n",
    "a = np.ones(5)\n",
    "b = torch.from_numpy(a)\n",
    "np.add(a,1,out=a)\n",
    "print(a)\n",
    "print(b)"
   ]
  },
  {
   "cell_type": "code",
   "execution_count": 26,
   "metadata": {
    "code_folding": []
   },
   "outputs": [],
   "source": [
    "#CUDA张量\n",
    "if torch.cuda.is_available():               #判断是否有cuda可以使用\n",
    "    device = torch.device(\"cuda\") \n",
    "    y = torch.ones_like(x,device=device)    #直接从GPU创建张量\n",
    "    x = x.to(device)\n",
    "    z = x + y\n",
    "    print(z)\n",
    "    print(z.to(\"cpu\",torch.double))"
   ]
  },
  {
   "cell_type": "code",
   "execution_count": null,
   "metadata": {},
   "outputs": [],
   "source": []
  }
 ],
 "metadata": {
  "kernelspec": {
   "display_name": "Python 3",
   "language": "python",
   "name": "python3"
  },
  "language_info": {
   "codemirror_mode": {
    "name": "ipython",
    "version": 3
   },
   "file_extension": ".py",
   "mimetype": "text/x-python",
   "name": "python",
   "nbconvert_exporter": "python",
   "pygments_lexer": "ipython3",
   "version": "3.7.3"
  }
 },
 "nbformat": 4,
 "nbformat_minor": 2
}
