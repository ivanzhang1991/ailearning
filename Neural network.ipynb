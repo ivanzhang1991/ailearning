{
 "cells": [
  {
   "cell_type": "markdown",
   "metadata": {},
   "source": [
    "使用torch.nn包来构建神经网络。\n",
    "nn包依赖autograd包来定义模型并求导。一个nn.Module包含各个层和一个forward(input)方法，该方法返回output "
   ]
  },
  {
   "cell_type": "code",
   "execution_count": 1,
   "metadata": {},
   "outputs": [
    {
     "name": "stdout",
     "output_type": "stream",
     "text": [
      "Net(\n",
      "  (conv1): Conv2d(1, 6, kernel_size=(5, 5), stride=(1, 1))\n",
      "  (conv2): Conv2d(6, 16, kernel_size=(5, 5), stride=(1, 1))\n",
      "  (fc1): Linear(in_features=400, out_features=120, bias=True)\n",
      "  (fc2): Linear(in_features=120, out_features=84, bias=True)\n",
      "  (fc3): Linear(in_features=84, out_features=10, bias=True)\n",
      ")\n"
     ]
    }
   ],
   "source": [
    "#定义一个网络\n",
    "import torch\n",
    "import torch.nn as nn\n",
    "import torch.nn.functional as F\n",
    "\n",
    "class Net(nn.Module):\n",
    "    def __init__(self):\n",
    "        super(Net,self).__init__()\n",
    "        #1个输入图像通道，6个输出通道，5x5卷积核\n",
    "        self.conv1 = nn.Conv2d(1,6,5)\n",
    "        self.conv2 = nn.Conv2d(6,16,5)\n",
    "        \n",
    "        self.fc1 = nn.Linear(16 * 5 * 5,120)\n",
    "        self.fc2 = nn.Linear(120,84)\n",
    "        self.fc3 = nn.Linear(84,10)\n",
    "        \n",
    "    def forward(self,x):\n",
    "        #max pooling 2x2\n",
    "        x = F.max_pool2d(F.relu(self.conv1(x)),(2,2))\n",
    "        \n",
    "        x = F.max_pool2d(F.relu(self.conv2(x)),2)\n",
    "        x = x.view(-1,self.num_flat_features(x))\n",
    "        x = F.relu(self.fc1(x))\n",
    "        x = F.relu(self.fc2(x))\n",
    "        x = self.fc3(x)\n",
    "        return x\n",
    "    \n",
    "    def num_flat_features(self,x):\n",
    "        size = x.size()[1:] #除了批处理维度之外的所有维度\n",
    "        num_features = 1\n",
    "        for s in size:\n",
    "            num_features *= s\n",
    "        return num_features\n",
    "\n",
    "net = Net()\n",
    "print(net)"
   ]
  },
  {
   "cell_type": "code",
   "execution_count": 2,
   "metadata": {},
   "outputs": [
    {
     "name": "stdout",
     "output_type": "stream",
     "text": [
      "10\n",
      "torch.Size([6, 1, 5, 5])\n"
     ]
    }
   ],
   "source": [
    "#net.parameters()返回可被学习的参数（权重）列表和值\n",
    "params = list(net.parameters())\n",
    "print(len(params))\n",
    "print(params[0].size())"
   ]
  },
  {
   "cell_type": "code",
   "execution_count": 3,
   "metadata": {},
   "outputs": [
    {
     "name": "stdout",
     "output_type": "stream",
     "text": [
      "tensor([[ 0.1657,  0.0314,  0.0473, -0.0544, -0.1273, -0.0486,  0.2184,  0.0561,\n",
      "         -0.0803,  0.0407]], grad_fn=<AddmmBackward>)\n"
     ]
    }
   ],
   "source": [
    "#测试随机输入32x32\n",
    "input = torch.randn(1,1,32,32)\n",
    "out = net(input)\n",
    "print(out)"
   ]
  },
  {
   "cell_type": "code",
   "execution_count": 4,
   "metadata": {},
   "outputs": [],
   "source": [
    "#将所有参数的梯度缓存清零，然后进行随机梯度的反向传播\n",
    "net.zero_grad()\n",
    "out.backward(torch.randn(1,10))"
   ]
  },
  {
   "cell_type": "markdown",
   "metadata": {},
   "source": [
    "回顾：\n",
    "torch.Tensor 自动调用backward()实现支持自动梯度计算的多维数组\n",
    "nn.Module:神经网络模块。封装参数、移动到GPU上运行、导出、加载等\n",
    "nn.parameter:一种变量，当把它赋值给一个module时，被自动地注册为一个参数\n",
    "autograd.function：实现一个自动求导操作的前向和反向定义\n",
    "    \n",
    "    "
   ]
  },
  {
   "cell_type": "code",
   "execution_count": 5,
   "metadata": {},
   "outputs": [
    {
     "name": "stdout",
     "output_type": "stream",
     "text": [
      "tensor(1.2446, grad_fn=<MseLossBackward>)\n"
     ]
    }
   ],
   "source": [
    "#nn包有许多不同的loss function，nn.MSELoss是一个比较简单的loss function\n",
    "output = net(input)\n",
    "target = torch.randn(10)\n",
    "target = target.view(1,-1)\n",
    "criterion = nn.MSELoss()\n",
    "\n",
    "loss = criterion(output,target)\n",
    "print(loss)"
   ]
  },
  {
   "cell_type": "code",
   "execution_count": 6,
   "metadata": {},
   "outputs": [],
   "source": [
    "#现在，如果你反向追踪“loss”，使用它的“.grad_fn”属性，你会看到一个像这样的计算图：\n",
    "\n",
    "#    input -> conv2d -> relu -> maxpool2d -> conv2d -> relu -> maxpool2d\n",
    "#          -> view -> linear -> relu -> linear -> relu -> linear\n",
    "#          -> MSELoss\n",
    "#          -> loss\n",
    "#所以，当我们调用“loss.backward()”时，整个图是关于loss的求导，而图中所有具有“requires_grad=True”\n",
    "#属性的Tensors，将会有它们的“.grad”Tensor来积累梯度。"
   ]
  },
  {
   "cell_type": "code",
   "execution_count": 7,
   "metadata": {},
   "outputs": [
    {
     "name": "stdout",
     "output_type": "stream",
     "text": [
      "<MseLossBackward object at 0x7f292456d400>\n",
      "<AddmmBackward object at 0x7f29241796a0>\n",
      "<AccumulateGrad object at 0x7f29241dcf28>\n"
     ]
    }
   ],
   "source": [
    "#跟随一些反向的步骤：\n",
    "print(loss.grad_fn) #MSELoss\n",
    "print(loss.grad_fn.next_functions[0][0]) #Linear\n",
    "print(loss.grad_fn.next_functions[0][0].next_functions[0][0]) #ReLU"
   ]
  },
  {
   "cell_type": "code",
   "execution_count": 8,
   "metadata": {},
   "outputs": [
    {
     "name": "stdout",
     "output_type": "stream",
     "text": [
      "conv1.bias.grad before backward\n",
      "tensor([0., 0., 0., 0., 0., 0.])\n",
      "conv1.bias.grad after backward\n",
      "tensor([-0.0083, -0.0067,  0.0242, -0.0136,  0.0094,  0.0084])\n"
     ]
    }
   ],
   "source": [
    "#反向传播 Backprop\n",
    "#为了反向传播误差，我们所要做的全部事情仅仅是一句“loss.backward()”。\n",
    "#（1）首先需要清空现在的梯度，否则将来的梯度将被累积到现有的梯度中。\n",
    "#（2）然后调用“loss.backward()”，并且在反向的前、后，看一看conv1的偏置梯度（conv1's bias gradients）\n",
    "net.zero_grad() #清空所有参数的梯度缓冲区\n",
    "print('conv1.bias.grad before backward') #反向传播之前的梯度\n",
    "print(net.conv1.bias.grad) #conv1的偏导数\n",
    "\n",
    "loss.backward()\n",
    "print('conv1.bias.grad after backward')\n",
    "print(net.conv1.bias.grad)\n"
   ]
  },
  {
   "cell_type": "code",
   "execution_count": 9,
   "metadata": {},
   "outputs": [],
   "source": [
    "#更新权重\n",
    "#权重 = 权重 - 学习率 * 梯度       \n",
    "# weight = weight - learning_rate * gradient\n",
    "import torch.optim as optim\n",
    "#创建优化器\n",
    "optimizer = optim.SGD(net.parameters(),lr=0.01)\n",
    "\n",
    "#训练中\n",
    "optimizer.zero_grad()  #梯度缓冲区清零\n",
    "output = net(input)\n",
    "loss = criterion(output,target)\n",
    "loss.backward()\n",
    "optimizer.step()    #更新梯度"
   ]
  },
  {
   "cell_type": "code",
   "execution_count": null,
   "metadata": {},
   "outputs": [],
   "source": []
  }
 ],
 "metadata": {
  "kernelspec": {
   "display_name": "Python 3",
   "language": "python",
   "name": "python3"
  },
  "language_info": {
   "codemirror_mode": {
    "name": "ipython",
    "version": 3
   },
   "file_extension": ".py",
   "mimetype": "text/x-python",
   "name": "python",
   "nbconvert_exporter": "python",
   "pygments_lexer": "ipython3",
   "version": "3.7.3"
  }
 },
 "nbformat": 4,
 "nbformat_minor": 2
}
